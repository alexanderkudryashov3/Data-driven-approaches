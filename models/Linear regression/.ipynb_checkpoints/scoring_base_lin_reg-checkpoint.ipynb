{
 "cells": [
  {
   "cell_type": "markdown",
   "metadata": {
    "id": "K1CtgP0fKAFK"
   },
   "source": [
    "# Scoring notebook"
   ]
  },
  {
   "cell_type": "markdown",
   "metadata": {
    "id": "lrGnRVh4OJ-3"
   },
   "source": [
    "This is the scoring notebook for the data driven competition at CMF 2022. You can change cells with `### YOUR CODE HERE` line, all other cells are read-only. However, you can add new cells to organize your code in a convenient way."
   ]
  },
  {
   "cell_type": "code",
   "execution_count": null,
   "metadata": {
    "ExecuteTime": {
     "end_time": "2022-10-27T20:44:47.071844Z",
     "start_time": "2022-10-27T20:44:47.068841Z"
    },
    "id": "0qzJFDQLcVCs"
   },
   "outputs": [],
   "source": [
    "import pandas as pd\n",
    "import numpy as np\n",
    "from tqdm.notebook import tqdm\n",
    "from sklearn.metrics import mean_squared_error as mse\n",
    "import matplotlib.pyplot as plt"
   ]
  },
  {
   "cell_type": "markdown",
   "metadata": {
    "id": "7YoK81KJOJ-5"
   },
   "source": [
    "Let us load the dataset. Columns in the test (public as well as private) dataset are equivalent to the train dataset."
   ]
  },
  {
   "cell_type": "code",
   "execution_count": null,
   "metadata": {
    "deletable": false,
    "editable": false,
    "id": "uqUe7aiROJ-5",
    "nbgrader": {
     "cell_type": "code",
     "checksum": "68e48247a4dd077d8413e70dea7d1bf6",
     "grade": false,
     "grade_id": "cell-7d61050afd976237",
     "locked": true,
     "schema_version": 3,
     "solution": false,
     "task": false
    }
   },
   "outputs": [],
   "source": [
    "dataset = pd.read_csv('dataset.zip', index_col=0, header=[0, 1])\n",
    "dataset.rename(\n",
    "    columns={\n",
    "        'Unnamed: 209_level_1': 'count',\n",
    "        'Unnamed: 210_level_1': 'price',\n",
    "    },\n",
    "    level = 1,\n",
    "    inplace = True\n",
    ")\n",
    "dataset.head()"
   ]
  },
  {
   "cell_type": "code",
   "execution_count": null,
   "metadata": {
    "ExecuteTime": {
     "end_time": "2022-10-29T13:58:28.907237Z",
     "start_time": "2022-10-29T13:58:28.901231Z"
    },
    "deletable": false,
    "editable": false,
    "id": "sIGbu6FEeVKw",
    "nbgrader": {
     "cell_type": "code",
     "checksum": "3cd7324549c0b91b6c48f901dad73a86",
     "grade": false,
     "grade_id": "cell-170d40d54ca69e5e",
     "locked": true,
     "schema_version": 3,
     "solution": false,
     "task": false
    }
   },
   "outputs": [],
   "source": [
    "class Dataloader():\n",
    "    def __init__(\n",
    "        self, \n",
    "        dataframe: pd.DataFrame, \n",
    "        window_size: int, \n",
    "        step_size: int,\n",
    "        horizon: int,\n",
    "        first_pred: int\n",
    "    ):\n",
    "        self.df = dataframe\n",
    "        self.window_size = window_size\n",
    "        self.step_size = step_size\n",
    "        self.horizon = horizon\n",
    "        self.first_pred = first_pred\n",
    "        assert self.first_pred > self.window_size\n",
    "        feat_idx = []\n",
    "        target_idx = []\n",
    "        for i in range(self.first_pred, self.df.shape[0], self.step_size):\n",
    "            feat_idx.append(range(i-self.horizon-self.window_size+1, i-self.horizon+1))\n",
    "            target_idx.append(i)\n",
    "        self.feat_idx = feat_idx\n",
    "        self.target_idx = target_idx\n",
    "    \n",
    "    def __len__(self):\n",
    "        return len(self.feat_idx)\n",
    "    \n",
    "    def __iter__(self):\n",
    "        self.iter = 0\n",
    "        return self\n",
    "\n",
    "    def __next__(self):\n",
    "        if self.iter < len(self.feat_idx):\n",
    "            feat = self.df.iloc[self.feat_idx[self.iter]]\n",
    "            target = self.df.iloc[self.target_idx[self.iter], -1]\n",
    "            self.iter += 1\n",
    "            return feat, target\n",
    "        else:\n",
    "            raise StopIteration"
   ]
  },
  {
   "cell_type": "markdown",
   "metadata": {
    "id": "1CDyDvVSOJ-6"
   },
   "source": [
    "Column **price** represents the price at moment **t**. The task is to predict **price** values at moment **t+60**."
   ]
  },
  {
   "cell_type": "markdown",
   "metadata": {
    "ExecuteTime": {
     "end_time": "2022-10-29T13:42:43.686484Z",
     "start_time": "2022-10-29T13:42:43.683481Z"
    },
    "id": "-ID65MhXOJ-7"
   },
   "source": [
    "The forecasting problem is defined as follows. Consider the multivariate time series of features (exogenous variables) $X_0, X_1, \\dots $ where $X_i \\in \\mathbb{R}^d$. Consider the univariate time series of targets (endogenous variables) $y_0, y_1, ...$ where $y_i \\in \\mathbb{R}$. The task is to predict the $y_{T+h}$ where $T \\in \\{1000, 1001, \\dots\\}$ is the last available time stamp and $h = 60$ is the forecasting horizon by the given _sliding window_ over pairs $(X, y)_{T-N+1}, (X, y)_{T-N+2}, \\dots, (X, y)_T$ with the selected window size $1 \\leq N \\leq 1000$. The optimization problem is minimizing the mean squared error between predictions and targets.\n",
    "\n",
    "Select the window size appropriately to your solution."
   ]
  },
  {
   "cell_type": "code",
   "execution_count": null,
   "metadata": {
    "ExecuteTime": {
     "end_time": "2022-10-29T13:58:29.952177Z",
     "start_time": "2022-10-29T13:58:29.950175Z"
    },
    "deletable": false,
    "id": "O0KZx6v2Pskf",
    "nbgrader": {
     "cell_type": "code",
     "checksum": "b9f4398c0eab364af26f01b9441f9f67",
     "grade": false,
     "grade_id": "cell-61cc58a96b92ec1d",
     "locked": false,
     "schema_version": 3,
     "solution": true,
     "task": false
    }
   },
   "outputs": [],
   "source": [
    "window_size = 1"
   ]
  },
  {
   "cell_type": "code",
   "execution_count": null,
   "metadata": {
    "deletable": false,
    "editable": false,
    "id": "14SgNttdOJ-9",
    "nbgrader": {
     "cell_type": "code",
     "checksum": "62d485eb0d9feb886b6f4d7a3831d61e",
     "grade": false,
     "grade_id": "cell-36f1abaeb93458a9",
     "locked": true,
     "schema_version": 3,
     "solution": false,
     "task": false
    }
   },
   "outputs": [],
   "source": [
    "assert (1 <= window_size) and (window_size <= 1000)"
   ]
  },
  {
   "cell_type": "markdown",
   "metadata": {
    "id": "sv0f2CFuOJ-9"
   },
   "source": [
    "The dataloader defines the forecasting problem with the selected window size.\n",
    "\n",
    "**Remark**: first 1060 observations in both test datasets will not be scored."
   ]
  },
  {
   "cell_type": "code",
   "execution_count": null,
   "metadata": {
    "ExecuteTime": {
     "end_time": "2022-10-29T13:58:31.362960Z",
     "start_time": "2022-10-29T13:58:30.675823Z"
    },
    "deletable": false,
    "editable": false,
    "id": "NsXyUoocjeQ2",
    "nbgrader": {
     "cell_type": "code",
     "checksum": "adb19a05e397dac970ee395e6ce5fb11",
     "grade": false,
     "grade_id": "cell-fbf2f36a091487d2",
     "locked": true,
     "schema_version": 3,
     "solution": false,
     "task": false
    }
   },
   "outputs": [],
   "source": [
    "loader = Dataloader(\n",
    "    dataframe=dataset, \n",
    "    window_size=window_size, \n",
    "    step_size=1, \n",
    "    horizon=60, \n",
    "    first_pred=1060)\n",
    "\n",
    "for feat, target in loader:\n",
    "    break\n",
    "feat.shape, target"
   ]
  },
  {
   "cell_type": "markdown",
   "metadata": {
    "id": "nuy9VA_ZOJ--"
   },
   "source": [
    "Define your forecasting model. You can install necessary libraries by `!pip install ... `. You can find installed packages in [requirements](https://github.com/vpozdnyakov/EvalAI/blob/master/requirements/worker.txt). Here is also CPU version of `torch==1.10.2`. Do not train the model here, instead download the weights of a pretrained model from your own cloud service, e.g. google drive by `gdown` as follows:\n",
    "\n",
    "```python\n",
    "!pip install gdown==4.2.0 -q\n",
    "url = ...\n",
    "gdown.download(url, 'model_scripted.pt', fuzzy=True)\n",
    "model = torch.jit.load('model_scripted.pt')\n",
    "```\n",
    "\n",
    "You can change the template by adding additional methods, parameters, etc."
   ]
  },
  {
   "cell_type": "code",
   "execution_count": null,
   "metadata": {
    "ExecuteTime": {
     "end_time": "2022-10-29T13:58:31.956490Z",
     "start_time": "2022-10-29T13:58:31.953488Z"
    },
    "deletable": false,
    "id": "bvCcRraKTv4f",
    "nbgrader": {
     "cell_type": "code",
     "checksum": "d3cc0e1f1f28b54852210ddb2e05d13d",
     "grade": false,
     "grade_id": "cell-b7cafa481754fe7b",
     "locked": false,
     "schema_version": 3,
     "solution": true,
     "task": false
    }
   },
   "outputs": [],
   "source": [
    "class ForecastingModel():\n",
    "    def __init__(self):\n",
    "        from sklearn.linear_model import LinearRegression\n",
    "        params = [[[-0.0005384770380169127, -0.28350132504267106, 0.08173542855532759, -0.3533556673888432, -0.1825023020817937, 0.19240775895771112, 0.05842814654022345, 0.15589184067572892, -4.0010280924040586e-08, -0.0001560418797431816, -1.1194910087140958e-05, 3.531725891823081e-06, 6.363174597578372e-06, 5.507294423097976e-06, 1.14919389001785e-07, 1.3482157335226e-07, 1.6716546249357115e-06, 7.678973521230929e-05, 0.28135131273018776, -0.2471512015056614, 0.05398961536116234, 0.0010020714592310544, -0.103859796766626, 0.05918314572654251, 0.18913103291298525, 3.060710954431653e-08, 6.484978523007157e-05, 8.911404808897676e-07, -2.684842753048096e-06, -5.291599155613728e-06, -3.7812247085189463e-06, 1.5007968579144881e-06, 4.2780210114657085e-07, 1.444703553926674e-06, -0.00038915349018548914, -0.15842798281258108, 0.10941257716815127, 0.7888248655687403, 0.22769343628718924, -0.22593346557065577, 0.061720647968247735, 0.1398139306781656, 1.7677253771886114e-08, 0.00013291539395106355, -3.1147804856468397e-06, 1.2746090077841998e-07, -1.5185027710251653e-07, 3.828412932366243e-07, 5.341865633224675e-07, -1.2617212609769557e-07, 4.889758800363797e-07, -0.00010610426112480503, -0.45258946314784626, 0.17422322314411015, -0.0203399437335968, 0.06281398853740955, 0.0648509217209372, -0.0005981496922247556, 0.08501933545327886, 1.3411977597965752e-08, -0.0001698995892102078, -6.45503663562752e-07, -1.393201082694473e-07, 3.809091840382972e-07, -5.091388829425725e-07, -3.8974430971450147e-07, -6.880449741897277e-08, 1.6604769474681813e-07, 0.0007078406295252561, 0.40182212054020133, -0.22376893913637133, -0.47231873154221804, 0.06645793963706724, 0.10300136180046879, -0.062219509985710277, 0.0937961131568668, 2.2635667173975804e-08, 6.77014392188053e-05, -9.420240891511167e-07, -1.541225601309204e-07, 1.375844831549844e-06, -3.436281453828016e-07, -1.0039157509050822e-06, 1.4976822988732597e-07, 4.097994571738983e-07, -0.0003176873872619148, 0.32160901020646415, -0.12454792997109718, 0.6229762379974393, 0.058062551452090154, -0.49944341546025073, 0.052901458346109716, 0.2669684818179276, -8.5108378400367e-09, 0.00029107079868526337, -1.1462556463406447e-05, 3.078629020398377e-06, 8.50257098783131e-06, 8.759475457776993e-06, -1.0441604555043102e-06, 1.8069343689017248e-07, -1.1379588559599224e-06, 0.00023448165151132203, -0.34380825760686917, 0.14848044132150676, 0.34534224945183617, 0.13142753333269946, -0.038691876520365286, -0.07665568915612549, 0.07573799302941828, 3.154834378460425e-08, -0.0009297680691022945, -6.80718686777923e-07, -2.1293955702675338e-06, -6.734501524011116e-07, -1.3146534923022448e-06, 1.1637074204731007e-06, 3.822206090676322e-07, -1.581113965368891e-06, 0.0006548779882938217, 0.006733480073707004, -0.0049138947635682505, 0.007017170854113082, 0.057606340377457335, -0.21314800937128972, 0.10696066241883863, 0.2111198038039822, 1.884677217067754e-08, 0.0002757671798122637, -5.82164895043813e-06, 2.1441809075310736e-06, 2.980967497468942e-06, 2.6765840923093087e-06, -6.510601790049586e-07, -1.1155569609733185e-07, -1.7657771585570525e-06, 6.39325209333937e-05, 0.3254742556200609, 0.03637697169559885, 0.08516466841557169, 0.06409811944250465, -0.027415128960870738, -0.11834097821691957, -0.13071804924249464, -4.088533223089996e-08, 7.352573575121306e-05, -1.0419137162834269e-06, 9.469988786897643e-07, 1.6589943249495018e-06, 9.72721292492873e-07, -4.3865355849742604e-07, 3.0982291836928466e-07, -3.7005969327763566e-07, 5.160833553999496e-05, 0.0014113836227053985, -0.055087775431732336, 0.4477988483998684, -0.10039378681282562, -0.12270554570862333, 0.02836585063264479, 0.23743485597970188, 2.300329862703343e-08, -0.0001977352914587934, -4.118991583298981e-07, 2.2525024995223575e-07, -2.439956501589652e-06, -7.920617275253283e-07, 7.920860186430567e-07, -1.981434763487222e-08, -5.876902650567284e-07, -0.0012374938861763056, 0.0016416149319317085, -7.184799793955781, 2.895291919711242, -1.1189090648214244, 1.3749580985262484, 1.7332583785979025, 0.5341053694093885, 0.647269260651076, -0.0012374938854132036, 1.7580006328884795e-05, 5.205414163528553e-05, -0.00013053574702171422, 7.596054580065112e-05, 6.0578355621984146e-05, 5.5354268686951024e-05, -1.1035953491867877e-05, -8.868569403679572e-06, -2.559801988314585e-06, -0.0012975799890633144, -0.0006113355822128571, -0.5305832630992714, 0.42142251394756786, -1.147825202771184, 1.3577861252230532, 2.6837112485106425, -1.9165865941551998, -2.0157749554805195, -0.0012975799834342157, -4.715265640028825e-06, 0.0032049920152303437, 0.0001492836619500764, 4.783248644126079e-06, -0.0002238780778626205, -0.00024595439481092315, 3.313335294858813e-05, 3.491102358778894e-05, 2.273939211525208e-05, 4.036447588368075e-05, 0.05566480250667962]], [0.02875511759157945]]\n",
    "        model2 = LinearRegression()\n",
    "        model2.coef_ = np.array(params[0])\n",
    "        model2.intercept_ = np.array(params[1])\n",
    "        self.model2 = model2\n",
    "        \n",
    "    def forecast(self, feat):\n",
    "        return self.model2.predict(feat)[0][0]\n",
    "    \n",
    "\n",
    "model = ForecastingModel()"
   ]
  },
  {
   "cell_type": "markdown",
   "metadata": {
    "id": "Be99rlq0OJ-_"
   },
   "source": [
    "In **forecast** function you can do preprocessing, e.g. deletion unnecessary data or aggregation."
   ]
  },
  {
   "cell_type": "code",
   "execution_count": null,
   "metadata": {
    "ExecuteTime": {
     "end_time": "2022-10-29T13:58:33.353739Z",
     "start_time": "2022-10-29T13:58:33.351737Z"
    },
    "deletable": false,
    "id": "f9cSEgUXQjOw",
    "nbgrader": {
     "cell_type": "code",
     "checksum": "ef1400bc0c178ec23631536ae5705a28",
     "grade": false,
     "grade_id": "cell-58771daef4fc0219",
     "locked": false,
     "schema_version": 3,
     "solution": true,
     "task": false
    }
   },
   "outputs": [],
   "source": [
    "def forecast(feat):\n",
    "    return model.forecast(feat.fillna(0))"
   ]
  },
  {
   "cell_type": "markdown",
   "metadata": {
    "id": "GOg43qVLOJ-_"
   },
   "source": [
    "Scoring the model."
   ]
  },
  {
   "cell_type": "code",
   "execution_count": null,
   "metadata": {
    "ExecuteTime": {
     "end_time": "2022-10-29T14:04:01.728985Z",
     "start_time": "2022-10-29T13:58:34.895728Z"
    },
    "deletable": false,
    "editable": false,
    "id": "BS66hiKrUaAg",
    "nbgrader": {
     "cell_type": "code",
     "checksum": "a39dedc2fdf5a0ed639e9b298e31c4a3",
     "grade": true,
     "grade_id": "cell-feca7fa33d349c92",
     "locked": true,
     "points": 100,
     "schema_version": 3,
     "solution": false,
     "task": false
    }
   },
   "outputs": [],
   "source": [
    "pred = []\n",
    "target = []\n",
    "for feat, _target in loader:\n",
    "    pred.append(forecast(feat))\n",
    "    target.append(_target)\n",
    "mse(pred, target)"
   ]
  },
  {
   "cell_type": "markdown",
   "metadata": {
    "id": "Nt0FqtbGOJ_A"
   },
   "source": [
    "Let us draw the forecast visualization."
   ]
  },
  {
   "cell_type": "code",
   "execution_count": null,
   "metadata": {
    "ExecuteTime": {
     "end_time": "2022-10-29T14:04:03.182285Z",
     "start_time": "2022-10-29T14:04:01.729986Z"
    },
    "id": "rGl3CYPqWODo"
   },
   "outputs": [],
   "source": [
    "plt.figure(figsize=(12, 4))\n",
    "plt.plot(target, label='target')\n",
    "plt.plot(pred, label='forecast')\n",
    "plt.title('Price of the asset')\n",
    "plt.legend()\n",
    "plt.show()"
   ]
  },
  {
   "cell_type": "markdown",
   "metadata": {
    "id": "vcgqwS-Yfvsv"
   },
   "source": [
    "Example of 1000 forecasts."
   ]
  },
  {
   "cell_type": "code",
   "execution_count": null,
   "metadata": {
    "ExecuteTime": {
     "end_time": "2022-10-29T14:04:03.301392Z",
     "start_time": "2022-10-29T14:04:03.183286Z"
    },
    "id": "9JgCdniNdrne"
   },
   "outputs": [],
   "source": [
    "plt.figure(figsize=(12, 4))\n",
    "plt.plot(target[-100000:-99000], label='target')\n",
    "plt.plot(pred[-100000:-99000], label='forecast')\n",
    "plt.title('Price of the asset')\n",
    "plt.legend()\n",
    "plt.show()"
   ]
  },
  {
   "cell_type": "code",
   "execution_count": null,
   "metadata": {
    "id": "dtOAtruVfVtC"
   },
   "outputs": [],
   "source": []
  }
 ],
 "metadata": {
  "colab": {
   "collapsed_sections": [],
   "provenance": []
  },
  "kernelspec": {
   "display_name": "Python 3 (ipykernel)",
   "language": "python",
   "name": "python3"
  },
  "language_info": {
   "codemirror_mode": {
    "name": "ipython",
    "version": 3
   },
   "file_extension": ".py",
   "mimetype": "text/x-python",
   "name": "python",
   "nbconvert_exporter": "python",
   "pygments_lexer": "ipython3",
   "version": "3.9.14"
  }
 },
 "nbformat": 4,
 "nbformat_minor": 1
}
